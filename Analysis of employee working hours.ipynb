{
 "cells": [
  {
   "cell_type": "code",
   "execution_count": 16,
   "id": "74cb978a-3c22-4320-ae62-842b0837764f",
   "metadata": {},
   "outputs": [],
   "source": [
    "import numpy as np"
   ]
  },
  {
   "cell_type": "code",
   "execution_count": 17,
   "id": "03c78405-0e97-479f-853c-c60476ab5e79",
   "metadata": {},
   "outputs": [],
   "source": [
    "import pandas as pd"
   ]
  },
  {
   "cell_type": "code",
   "execution_count": 18,
   "id": "34274eb0-f16d-471e-9aef-16464f62a632",
   "metadata": {},
   "outputs": [],
   "source": [
    "np.random.seed(42)"
   ]
  },
  {
   "cell_type": "code",
   "execution_count": 19,
   "id": "1e7db7d8-5a43-46a0-8868-3fbc8c917d6e",
   "metadata": {},
   "outputs": [],
   "source": [
    "employee_ids=[f\"EMP_{i:03d}\"for i in range(1,31)]"
   ]
  },
  {
   "cell_type": "code",
   "execution_count": 20,
   "id": "be6ac57e-6f7a-48cf-bd2c-ba6a1d396560",
   "metadata": {},
   "outputs": [],
   "source": [
    "dates=pd.date_range(\"2025-07-01\",periods=30,freq=\"D\")"
   ]
  },
  {
   "cell_type": "code",
   "execution_count": 21,
   "id": "daa72003-1a37-4c04-af5a-888c31c6fb26",
   "metadata": {},
   "outputs": [
    {
     "data": {
      "text/plain": [
       "['EMP_001',\n",
       " 'EMP_002',\n",
       " 'EMP_003',\n",
       " 'EMP_004',\n",
       " 'EMP_005',\n",
       " 'EMP_006',\n",
       " 'EMP_007',\n",
       " 'EMP_008',\n",
       " 'EMP_009',\n",
       " 'EMP_010',\n",
       " 'EMP_011',\n",
       " 'EMP_012',\n",
       " 'EMP_013',\n",
       " 'EMP_014',\n",
       " 'EMP_015',\n",
       " 'EMP_016',\n",
       " 'EMP_017',\n",
       " 'EMP_018',\n",
       " 'EMP_019',\n",
       " 'EMP_020',\n",
       " 'EMP_021',\n",
       " 'EMP_022',\n",
       " 'EMP_023',\n",
       " 'EMP_024',\n",
       " 'EMP_025',\n",
       " 'EMP_026',\n",
       " 'EMP_027',\n",
       " 'EMP_028',\n",
       " 'EMP_029',\n",
       " 'EMP_030']"
      ]
     },
     "execution_count": 21,
     "metadata": {},
     "output_type": "execute_result"
    }
   ],
   "source": [
    "employee_ids"
   ]
  },
  {
   "cell_type": "code",
   "execution_count": 22,
   "id": "dfb46a93-e686-4ae5-9e00-bc91e0c473e8",
   "metadata": {},
   "outputs": [],
   "source": [
    "data={\n",
    "      \"Date\":np.tile(dates,len(employee_ids)),\n",
    "      \"Employee_ID\":np.repeat(employee_ids,len(dates)),\n",
    "      \"Working_Hours\":np.random.uniform(4,10,size=len(dates)*len(employee_ids)).round(2)\n",
    "}    "
   ]
  },
  {
   "cell_type": "code",
   "execution_count": 23,
   "id": "020df6db-a88e-45d3-bffb-30c32a01e9c7",
   "metadata": {},
   "outputs": [],
   "source": [
    "df=pd.DataFrame(data)"
   ]
  },
  {
   "cell_type": "code",
   "execution_count": 25,
   "id": "aa7e8fda-334e-40e7-8c00-d4d63b9328ec",
   "metadata": {},
   "outputs": [],
   "source": [
    "df.to_csv(\"employee_working_hours.csv\",index=False)"
   ]
  },
  {
   "cell_type": "code",
   "execution_count": 26,
   "id": "ab953a41-b8a7-4366-9aa4-d844eaf60e37",
   "metadata": {},
   "outputs": [],
   "source": [
    "df_csv=pd.read_csv(\"employee_working_hours.csv\")"
   ]
  },
  {
   "cell_type": "code",
   "execution_count": 28,
   "id": "393ce4ee-2f70-41fb-8e7a-6f5778c7df41",
   "metadata": {},
   "outputs": [
    {
     "name": "stdout",
     "output_type": "stream",
     "text": [
      "         Date Employee_ID  Working_Hours\n",
      "0  2025-07-01     EMP_001           6.25\n",
      "1  2025-07-02     EMP_001           9.70\n",
      "2  2025-07-03     EMP_001           8.39\n",
      "3  2025-07-04     EMP_001           7.59\n",
      "4  2025-07-05     EMP_001           4.94\n",
      "       Working_Hours\n",
      "count     900.000000\n",
      "mean        6.954233\n",
      "std         1.762088\n",
      "min         4.030000\n",
      "25%         5.387500\n",
      "50%         7.010000\n",
      "75%         8.490000\n",
      "max        10.000000\n",
      "30\n"
     ]
    }
   ],
   "source": [
    "print(df_csv.head())\n",
    "print(df_csv.describe())\n",
    "print(df_csv[\"Employee_ID\"].nunique())"
   ]
  },
  {
   "cell_type": "code",
   "execution_count": 30,
   "id": "9f4de5b7-1ff2-44cf-aef2-65941fd2fb5a",
   "metadata": {},
   "outputs": [],
   "source": [
    "total_hours=df_csv.groupby(\"Employee_ID\")[\"Working_Hours\"].sum().sort_values(ascending=False)"
   ]
  },
  {
   "cell_type": "code",
   "execution_count": 33,
   "id": "9931b66e-6b2f-47c8-b282-184ddebe8191",
   "metadata": {},
   "outputs": [],
   "source": [
    "avg_daily=df_csv.groupby(\"Employee_ID\")[\"Working_Hours\"].mean()"
   ]
  },
  {
   "cell_type": "code",
   "execution_count": 36,
   "id": "701628b7-d95e-4992-96c1-9c63537917da",
   "metadata": {},
   "outputs": [
    {
     "name": "stdout",
     "output_type": "stream",
     "text": [
      "         Date Employee_ID  Working_Hours  Low_Hours_Flag  High_Hours_Flag\n",
      "1  2025-07-02     EMP_001           9.70           False             True\n",
      "4  2025-07-05     EMP_001           4.94            True            False\n",
      "5  2025-07-06     EMP_001           4.94            True            False\n",
      "6  2025-07-07     EMP_001           4.35            True            False\n",
      "7  2025-07-08     EMP_001           9.20           False             True\n"
     ]
    }
   ],
   "source": [
    "threshold_low=5\n",
    "threshold_high=9\n",
    "df_csv[\"Low_Hours_Flag\"]=df_csv[\"Working_Hours\"] < threshold_low\n",
    "df_csv[\"High_Hours_Flag\"]=df_csv[\"Working_Hours\"] > threshold_high\n",
    "print(df_csv[df_csv[\"Low_Hours_Flag\"] | df_csv[\"High_Hours_Flag\"]].head())"
   ]
  },
  {
   "cell_type": "code",
   "execution_count": 40,
   "id": "61491637-bc44-4190-b873-c81519ef5641",
   "metadata": {},
   "outputs": [
    {
     "data": {
      "image/png": "[encoded data removed]",
      "text/plain": [
       "<Figure size 1000x500 with 1 Axes>"
      ]
     },
     "metadata": {},
     "output_type": "display_data"
    }
   ],
   "source": [
    "import matplotlib.pyplot as plt\n",
    "import seaborn as sns\n",
    "top10 = total_hours.head(10)\n",
    "plt.figure(figsize=(10,5))\n",
    "sns.barplot(x=top10.index,y=top10.values,color='navy')\n",
    "plt.xticks(rotation=45)\n",
    "plt.title(\"Top 10 Employee by Total working Hours\")\n",
    "plt.ylabel(\"Hours\")\n",
    "plt.tight_layout()\n",
    "plt.show()"
   ]
  },
  {
   "cell_type": "code",
   "execution_count": null,
   "id": "34c7aee0-82fd-4e85-a1ae-925a4f96ea6d",
   "metadata": {},
   "outputs": [],
   "source": []
  }
 ],
 "metadata": {
  "kernelspec": {
   "display_name": "Python 3 (ipykernel)",
   "language": "python",
   "name": "python3"
  },
  "language_info": {
   "codemirror_mode": {
    "name": "ipython",
    "version": 3
   },
   "file_extension": ".py",
   "mimetype": "text/x-python",
   "name": "python",
   "nbconvert_exporter": "python",
   "pygments_lexer": "ipython3",
   "version": "3.12.7"
  }
 },
 "nbformat": 4,
 "nbformat_minor": 5
}
